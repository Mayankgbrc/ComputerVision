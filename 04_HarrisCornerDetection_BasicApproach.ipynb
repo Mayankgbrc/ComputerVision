{
 "cells": [
  {
   "cell_type": "code",
   "execution_count": 28,
   "id": "8d532813",
   "metadata": {},
   "outputs": [],
   "source": [
    "import numpy as np\n",
    "from matplotlib import pyplot as plt"
   ]
  },
  {
   "cell_type": "code",
   "execution_count": 8,
   "id": "9cbfc468",
   "metadata": {},
   "outputs": [],
   "source": [
    "# Basic Approach\n",
    "\n",
    "img = np.array([\n",
    "    [0, 0, 1, 4, 9],\n",
    "    [1, 0, 5, 7, 11],\n",
    "    [1, 4, 9, 12, 16],\n",
    "    [3, 8, 11, 14, 16],\n",
    "    [8, 10, 15, 16, 20],\n",
    "])"
   ]
  },
  {
   "cell_type": "code",
   "execution_count": 30,
   "id": "146623b0",
   "metadata": {},
   "outputs": [
    {
     "data": {
      "text/plain": [
       "<matplotlib.image.AxesImage at 0x130868f10>"
      ]
     },
     "execution_count": 30,
     "metadata": {},
     "output_type": "execute_result"
    },
    {
     "data": {
      "image/png": "[encoded data removed]",
      "text/plain": [
       "<Figure size 640x480 with 1 Axes>"
      ]
     },
     "metadata": {},
     "output_type": "display_data"
    }
   ],
   "source": [
    "plt.imshow(img, cmap = \"gray\")"
   ]
  },
  {
   "cell_type": "code",
   "execution_count": 9,
   "id": "311f0dac",
   "metadata": {},
   "outputs": [],
   "source": [
    "kernel_x = np.array([-1, 0, 1])\n",
    "kernel_y = np.array([[-1], [0], [1]])\n"
   ]
  },
  {
   "cell_type": "code",
   "execution_count": 15,
   "id": "94b1da24",
   "metadata": {},
   "outputs": [
    {
     "name": "stdout",
     "output_type": "stream",
     "text": [
      "(3, 3)\n"
     ]
    },
    {
     "data": {
      "text/plain": [
       "array([[4., 7., 6.],\n",
       "       [8., 8., 7.],\n",
       "       [8., 6., 5.]])"
      ]
     },
     "execution_count": 15,
     "metadata": {},
     "output_type": "execute_result"
    }
   ],
   "source": [
    "# Convolution on X-axis\n",
    "shapes = (len(img) - 2, len(img[0]) - 2)\n",
    "conv_x = np.zeros(shapes)\n",
    "\n",
    "for i in range(1, len(img)-1):\n",
    "    for j in range(1, len(img[0])-1):\n",
    "        summation = np.sum(kernel_x * img[i,j-1:j+2])\n",
    "        conv_x[i-1, j-1] = summation\n",
    "conv_x"
   ]
  },
  {
   "cell_type": "code",
   "execution_count": 19,
   "id": "f0f5514c",
   "metadata": {},
   "outputs": [
    {
     "data": {
      "text/plain": [
       "array([[4., 8., 8.],\n",
       "       [8., 6., 7.],\n",
       "       [6., 6., 4.]])"
      ]
     },
     "execution_count": 19,
     "metadata": {},
     "output_type": "execute_result"
    }
   ],
   "source": [
    "# Convolution on Y-axis\n",
    "shapes = (len(img) - 2, len(img[0]) - 2)\n",
    "conv_y = np.zeros(shapes)\n",
    "\n",
    "for i in range(1, len(img)-1):\n",
    "    for j in range(1, len(img[0])-1):\n",
    "        summation = np.sum(kernel_x * img[i - 1: i+2, j])\n",
    "        conv_y[i-1, j-1] = summation\n",
    "conv_y"
   ]
  },
  {
   "cell_type": "code",
   "execution_count": 20,
   "id": "7f882f65",
   "metadata": {},
   "outputs": [
    {
     "data": {
      "text/plain": [
       "403.0"
      ]
     },
     "execution_count": 20,
     "metadata": {},
     "output_type": "execute_result"
    }
   ],
   "source": [
    "summ_x = np.sum(conv_x ** 2)\n",
    "summ_x"
   ]
  },
  {
   "cell_type": "code",
   "execution_count": 21,
   "id": "5e5721c0",
   "metadata": {},
   "outputs": [
    {
     "data": {
      "text/plain": [
       "381.0"
      ]
     },
     "execution_count": 21,
     "metadata": {},
     "output_type": "execute_result"
    }
   ],
   "source": [
    "summ_y = np.sum(conv_y ** 2)\n",
    "summ_y"
   ]
  },
  {
   "cell_type": "code",
   "execution_count": 23,
   "id": "79ba4129",
   "metadata": {},
   "outputs": [
    {
     "data": {
      "text/plain": [
       "385.0"
      ]
     },
     "execution_count": 23,
     "metadata": {},
     "output_type": "execute_result"
    }
   ],
   "source": [
    "summ_x_y = np.sum(conv_x * conv_y)\n",
    "summ_x_y"
   ]
  },
  {
   "cell_type": "code",
   "execution_count": 24,
   "id": "d55b09c7",
   "metadata": {},
   "outputs": [
    {
     "data": {
      "text/plain": [
       "array([[403., 385.],\n",
       "       [385., 381.]])"
      ]
     },
     "execution_count": 24,
     "metadata": {},
     "output_type": "execute_result"
    }
   ],
   "source": [
    "H = np.array([\n",
    "    [summ_x, summ_x_y],\n",
    "    [summ_x_y, summ_y]\n",
    "])\n",
    "H"
   ]
  },
  {
   "cell_type": "code",
   "execution_count": 25,
   "id": "ad5687ff",
   "metadata": {},
   "outputs": [
    {
     "data": {
      "text/plain": [
       "5317.999999999992"
      ]
     },
     "execution_count": 25,
     "metadata": {},
     "output_type": "execute_result"
    }
   ],
   "source": [
    "det_h = np.linalg.det(H)\n",
    "det_h"
   ]
  },
  {
   "cell_type": "code",
   "execution_count": 26,
   "id": "058977a7",
   "metadata": {},
   "outputs": [
    {
     "data": {
      "text/plain": [
       "784.0"
      ]
     },
     "execution_count": 26,
     "metadata": {},
     "output_type": "execute_result"
    }
   ],
   "source": [
    "trace_h = np.trace(H)\n",
    "trace_h"
   ]
  },
  {
   "cell_type": "code",
   "execution_count": 27,
   "id": "d8b83b45",
   "metadata": {},
   "outputs": [
    {
     "data": {
      "text/plain": [
       "-19268.24000000001"
      ]
     },
     "execution_count": 27,
     "metadata": {},
     "output_type": "execute_result"
    }
   ],
   "source": [
    "k = 0.04\n",
    "C = det_h - (k * (trace_h ** 2))\n",
    "C   "
   ]
  },
  {
   "cell_type": "code",
   "execution_count": null,
   "id": "37ce56ba",
   "metadata": {},
   "outputs": [],
   "source": [
    "# If k is greater : Corner\n",
    "# If k is negative : Edge\n",
    "# If k is near to zero or small : Flat"
   ]
  }
 ],
 "metadata": {
  "kernelspec": {
   "display_name": "Python 3 (ipykernel)",
   "language": "python",
   "name": "python3"
  },
  "language_info": {
   "codemirror_mode": {
    "name": "ipython",
    "version": 3
   },
   "file_extension": ".py",
   "mimetype": "text/x-python",
   "name": "python",
   "nbconvert_exporter": "python",
   "pygments_lexer": "ipython3",
   "version": "3.11.1"
  }
 },
 "nbformat": 4,
 "nbformat_minor": 5
}
